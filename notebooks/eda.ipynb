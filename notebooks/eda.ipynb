{
 "cells": [
  {
   "cell_type": "markdown",
   "metadata": {},
   "source": [
    "# EDA & Modeling"
   ]
  },
  {
   "cell_type": "markdown",
   "metadata": {},
   "source": [
    "## First Exploratoy"
   ]
  },
  {
   "cell_type": "markdown",
   "metadata": {},
   "source": [
    "Data : https://www.transtats.bts.gov/Fields.asp?gnoyr_VQ=FGJ\n",
    "\n",
    "Columns : \n",
    "\n",
    "- DayOfWeek\n",
    "- IATA_CODE_Reporting_Airline\n",
    "- Origin\n",
    "- Dest\n",
    "- DepTime\n",
    "- DepDelay\n",
    "- ArrTime\n",
    "- Cancelled\n",
    "- AirTime"
   ]
  },
  {
   "cell_type": "code",
   "execution_count": 1,
   "metadata": {},
   "outputs": [],
   "source": [
    "import pandas as pd\n",
    "import numpy as np\n",
    "import matplotlib.pyplot as plt\n",
    "import matplotlib.ticker as ticker\n",
    "import seaborn as sns\n",
    "sns.set_theme(style=\"whitegrid\")\n",
    "import plotly.express as px\n",
    "\n",
    "import pickle\n",
    "from datetime import datetime, timedelta\n",
    "\n",
    "from sklearn.feature_extraction import DictVectorizer\n",
    "from sklearn.model_selection import train_test_split\n",
    "from sklearn.metrics import accuracy_score, f1_score, confusion_matrix, recall_score, precision_score, roc_curve, roc_auc_score\n",
    "from sklearn.utils import resample\n",
    "\n",
    "from sklearn.linear_model import LogisticRegression\n",
    "from sklearn.ensemble import BaggingClassifier, RandomForestClassifier\n",
    "from sklearn.tree import DecisionTreeClassifier\n",
    "import xgboost as xgb\n",
    "\n",
    "from hyperopt import fmin, tpe, hp, STATUS_OK, Trials\n",
    "from hyperopt.pyll import scope"
   ]
  },
  {
   "cell_type": "code",
   "execution_count": 4,
   "metadata": {},
   "outputs": [],
   "source": [
    "files = ['data/flight_status_01_2022.csv',\n",
    "         'data/flight_status_02_2022.csv',\n",
    "         'data/flight_status_03_2022.csv',\n",
    "         'data/flight_status_04_2022.csv']\n",
    "\n",
    "files_dict = {}\n",
    "for num, file in enumerate(files):\n",
    "        files_dict[num] = pd.read_csv(file)\n",
    "        \n",
    "df = pd.concat(list(files_dict.values()))"
   ]
  },
  {
   "cell_type": "code",
   "execution_count": 3,
   "metadata": {},
   "outputs": [
    {
     "name": "stdout",
     "output_type": "stream",
     "text": [
      "(2154970, 8)\n"
     ]
    },
    {
     "data": {
      "text/html": [
       "<div>\n",
       "<style scoped>\n",
       "    .dataframe tbody tr th:only-of-type {\n",
       "        vertical-align: middle;\n",
       "    }\n",
       "\n",
       "    .dataframe tbody tr th {\n",
       "        vertical-align: top;\n",
       "    }\n",
       "\n",
       "    .dataframe thead th {\n",
       "        text-align: right;\n",
       "    }\n",
       "</style>\n",
       "<table border=\"1\" class=\"dataframe\">\n",
       "  <thead>\n",
       "    <tr style=\"text-align: right;\">\n",
       "      <th></th>\n",
       "      <th>DAY_OF_WEEK</th>\n",
       "      <th>OP_CARRIER</th>\n",
       "      <th>ORIGIN</th>\n",
       "      <th>DEST</th>\n",
       "      <th>DEP_TIME</th>\n",
       "      <th>DEP_DELAY</th>\n",
       "      <th>ARR_TIME</th>\n",
       "      <th>AIR_TIME</th>\n",
       "    </tr>\n",
       "  </thead>\n",
       "  <tbody>\n",
       "    <tr>\n",
       "      <th>0</th>\n",
       "      <td>1</td>\n",
       "      <td>YX</td>\n",
       "      <td>CMH</td>\n",
       "      <td>DCA</td>\n",
       "      <td>1217.0</td>\n",
       "      <td>-7.0</td>\n",
       "      <td>1401.0</td>\n",
       "      <td>56.0</td>\n",
       "    </tr>\n",
       "    <tr>\n",
       "      <th>1</th>\n",
       "      <td>1</td>\n",
       "      <td>YX</td>\n",
       "      <td>CMH</td>\n",
       "      <td>DCA</td>\n",
       "      <td>1218.0</td>\n",
       "      <td>-6.0</td>\n",
       "      <td>1405.0</td>\n",
       "      <td>53.0</td>\n",
       "    </tr>\n",
       "    <tr>\n",
       "      <th>2</th>\n",
       "      <td>1</td>\n",
       "      <td>YX</td>\n",
       "      <td>CMH</td>\n",
       "      <td>DCA</td>\n",
       "      <td>1223.0</td>\n",
       "      <td>-1.0</td>\n",
       "      <td>1345.0</td>\n",
       "      <td>59.0</td>\n",
       "    </tr>\n",
       "    <tr>\n",
       "      <th>3</th>\n",
       "      <td>1</td>\n",
       "      <td>YX</td>\n",
       "      <td>DCA</td>\n",
       "      <td>CMH</td>\n",
       "      <td>1028.0</td>\n",
       "      <td>18.0</td>\n",
       "      <td>1201.0</td>\n",
       "      <td>61.0</td>\n",
       "    </tr>\n",
       "    <tr>\n",
       "      <th>4</th>\n",
       "      <td>1</td>\n",
       "      <td>YX</td>\n",
       "      <td>DCA</td>\n",
       "      <td>CMH</td>\n",
       "      <td>1123.0</td>\n",
       "      <td>73.0</td>\n",
       "      <td>1250.0</td>\n",
       "      <td>58.0</td>\n",
       "    </tr>\n",
       "    <tr>\n",
       "      <th>5</th>\n",
       "      <td>1</td>\n",
       "      <td>YX</td>\n",
       "      <td>DCA</td>\n",
       "      <td>CMH</td>\n",
       "      <td>1002.0</td>\n",
       "      <td>-8.0</td>\n",
       "      <td>1133.0</td>\n",
       "      <td>57.0</td>\n",
       "    </tr>\n",
       "    <tr>\n",
       "      <th>6</th>\n",
       "      <td>1</td>\n",
       "      <td>YX</td>\n",
       "      <td>DCA</td>\n",
       "      <td>CMH</td>\n",
       "      <td>1502.0</td>\n",
       "      <td>292.0</td>\n",
       "      <td>1643.0</td>\n",
       "      <td>53.0</td>\n",
       "    </tr>\n",
       "    <tr>\n",
       "      <th>7</th>\n",
       "      <td>1</td>\n",
       "      <td>YX</td>\n",
       "      <td>DCA</td>\n",
       "      <td>MEM</td>\n",
       "      <td>NaN</td>\n",
       "      <td>NaN</td>\n",
       "      <td>NaN</td>\n",
       "      <td>NaN</td>\n",
       "    </tr>\n",
       "    <tr>\n",
       "      <th>8</th>\n",
       "      <td>1</td>\n",
       "      <td>YX</td>\n",
       "      <td>ATL</td>\n",
       "      <td>LGA</td>\n",
       "      <td>1430.0</td>\n",
       "      <td>-9.0</td>\n",
       "      <td>1643.0</td>\n",
       "      <td>102.0</td>\n",
       "    </tr>\n",
       "    <tr>\n",
       "      <th>9</th>\n",
       "      <td>1</td>\n",
       "      <td>YX</td>\n",
       "      <td>ATL</td>\n",
       "      <td>LGA</td>\n",
       "      <td>1432.0</td>\n",
       "      <td>-7.0</td>\n",
       "      <td>1637.0</td>\n",
       "      <td>104.0</td>\n",
       "    </tr>\n",
       "  </tbody>\n",
       "</table>\n",
       "</div>"
      ],
      "text/plain": [
       "   DAY_OF_WEEK OP_CARRIER ORIGIN DEST  DEP_TIME  DEP_DELAY  ARR_TIME  AIR_TIME\n",
       "0            1         YX    CMH  DCA    1217.0       -7.0    1401.0      56.0\n",
       "1            1         YX    CMH  DCA    1218.0       -6.0    1405.0      53.0\n",
       "2            1         YX    CMH  DCA    1223.0       -1.0    1345.0      59.0\n",
       "3            1         YX    DCA  CMH    1028.0       18.0    1201.0      61.0\n",
       "4            1         YX    DCA  CMH    1123.0       73.0    1250.0      58.0\n",
       "5            1         YX    DCA  CMH    1002.0       -8.0    1133.0      57.0\n",
       "6            1         YX    DCA  CMH    1502.0      292.0    1643.0      53.0\n",
       "7            1         YX    DCA  MEM       NaN        NaN       NaN       NaN\n",
       "8            1         YX    ATL  LGA    1430.0       -9.0    1643.0     102.0\n",
       "9            1         YX    ATL  LGA    1432.0       -7.0    1637.0     104.0"
      ]
     },
     "execution_count": 3,
     "metadata": {},
     "output_type": "execute_result"
    }
   ],
   "source": [
    "print(df.shape)\n",
    "df.head(10)"
   ]
  },
  {
   "cell_type": "code",
   "execution_count": 4,
   "metadata": {},
   "outputs": [
    {
     "name": "stdout",
     "output_type": "stream",
     "text": [
      "Number of missing values : 309865\n"
     ]
    }
   ],
   "source": [
    "print(f'Number of missing values : {df.isna().sum().sum()}')"
   ]
  },
  {
   "cell_type": "code",
   "execution_count": 5,
   "metadata": {},
   "outputs": [],
   "source": [
    "df.dropna(axis=0, how='any', inplace=True) # remove rows that do not have arriving time and not cancelled"
   ]
  },
  {
   "cell_type": "code",
   "execution_count": 6,
   "metadata": {},
   "outputs": [
    {
     "name": "stdout",
     "output_type": "stream",
     "text": [
      "Number of missing values : 0\n"
     ]
    }
   ],
   "source": [
    "print(f'Number of missing values : {df.isna().sum().sum()}')"
   ]
  },
  {
   "cell_type": "code",
   "execution_count": 7,
   "metadata": {},
   "outputs": [],
   "source": [
    "df['DELAY_CATEG'] = np.where(df['DEP_DELAY'] <= 0, 'ON_TIME',\n",
    "                             np.where(df['DEP_DELAY'] <= 30, 'LESS_THAN_30_MIN',\n",
    "                                      np.where(df['DEP_DELAY'] <= 60, 'BETWEEN_30_AND_60_MIN',\n",
    "                                               np.where(df['DEP_DELAY'] <= 120, 'BETWEEN_60_AND_120_MIN',\n",
    "                                                                                    'OVER_120_OR_CANCELLED'))))\n",
    "df['DEP_TIME'] = np.where(df['DEP_TIME'] <= 600, '00H-06H',\n",
    "                             np.where(df['DEP_TIME'] <= 1200, '06H-12H',\n",
    "                                      np.where(df['DEP_TIME'] <= 1800, '12H-18H', \n",
    "                                                                            '18H-24H')))"
   ]
  },
  {
   "cell_type": "code",
   "execution_count": 8,
   "metadata": {},
   "outputs": [
    {
     "data": {
      "image/png": "[encoded data removed]",
      "text/plain": [
       "<Figure size 432x360 with 1 Axes>"
      ]
     },
     "metadata": {
      "needs_background": "light"
     },
     "output_type": "display_data"
    }
   ],
   "source": [
    "categ_frequency = df['DELAY_CATEG'].value_counts().reset_index(None)\n",
    "categ_frequency.rename(columns={'index':'Category', 'DELAY_CATEG':'Count'}, inplace=True)\n",
    "\n",
    "# Initialize the matplotlib figure\n",
    "fig, ax = plt.subplots(figsize=(6, 5))\n",
    "sns.set_color_codes(\"muted\")\n",
    "sns.barplot(x=\"Count\", y=\"Category\", data=categ_frequency,\n",
    "            label=\"Total\", color=\"b\")\n",
    "ax.set(ylabel=\"\", xlabel=\"\")\n",
    "ax.xaxis.set_major_formatter(ticker.FuncFormatter(lambda x, pos: '{:,.0f}'.format(x/1000) + 'K'))"
   ]
  },
  {
   "cell_type": "code",
   "execution_count": 9,
   "metadata": {},
   "outputs": [
    {
     "data": {
      "text/plain": [
       "[Text(0.5, 0, 'Count of Flights')]"
      ]
     },
     "execution_count": 9,
     "metadata": {},
     "output_type": "execute_result"
    },
    {
     "data": {
      "image/png": "[encoded data removed]",
      "text/plain": [
       "<Figure size 1080x360 with 3 Axes>"
      ]
     },
     "metadata": {
      "needs_background": "light"
     },
     "output_type": "display_data"
    }
   ],
   "source": [
    "fig, axs = plt.subplots(ncols=3, figsize=(15, 5))\n",
    "sns.barplot(x='DAY_OF_WEEK', \n",
    "            y='ORIGIN', \n",
    "            data=df[['DAY_OF_WEEK', 'ORIGIN']].groupby(['DAY_OF_WEEK']).count().reset_index(),\n",
    "            ax=axs[0])\n",
    "sns.barplot(x='ORIGIN', \n",
    "            y='OP_CARRIER', \n",
    "            data=df[['OP_CARRIER', 'ORIGIN']].groupby(['OP_CARRIER']).count().reset_index(),\n",
    "            ax=axs[1])\n",
    "sns.barplot(x='ORIGIN', \n",
    "            y='DEP_TIME', \n",
    "            data=df[['DEP_TIME', 'ORIGIN']].groupby(['DEP_TIME']).count().reset_index(),\n",
    "            ax=axs[2])\n",
    "axs[0].set(ylabel='Count of Flights')\n",
    "axs[1].set(xlabel='Count of Flights')\n",
    "axs[2].set(xlabel='Count of Flights')"
   ]
  },
  {
   "cell_type": "code",
   "execution_count": 10,
   "metadata": {},
   "outputs": [
    {
     "data": {
      "text/html": [
       "<div>\n",
       "<style scoped>\n",
       "    .dataframe tbody tr th:only-of-type {\n",
       "        vertical-align: middle;\n",
       "    }\n",
       "\n",
       "    .dataframe tbody tr th {\n",
       "        vertical-align: top;\n",
       "    }\n",
       "\n",
       "    .dataframe thead th {\n",
       "        text-align: right;\n",
       "    }\n",
       "</style>\n",
       "<table border=\"1\" class=\"dataframe\">\n",
       "  <thead>\n",
       "    <tr style=\"text-align: right;\">\n",
       "      <th></th>\n",
       "      <th>DAY_OF_WEEK</th>\n",
       "      <th>OP_CARRIER</th>\n",
       "      <th>ORIGIN</th>\n",
       "      <th>DEP_TIME</th>\n",
       "      <th>AIR_TIME</th>\n",
       "      <th>DELAY_CATEG</th>\n",
       "    </tr>\n",
       "  </thead>\n",
       "  <tbody>\n",
       "    <tr>\n",
       "      <th>0</th>\n",
       "      <td>1</td>\n",
       "      <td>YX</td>\n",
       "      <td>CMH</td>\n",
       "      <td>12H-18H</td>\n",
       "      <td>56.0</td>\n",
       "      <td>ON_TIME</td>\n",
       "    </tr>\n",
       "    <tr>\n",
       "      <th>1</th>\n",
       "      <td>1</td>\n",
       "      <td>YX</td>\n",
       "      <td>CMH</td>\n",
       "      <td>12H-18H</td>\n",
       "      <td>53.0</td>\n",
       "      <td>ON_TIME</td>\n",
       "    </tr>\n",
       "    <tr>\n",
       "      <th>2</th>\n",
       "      <td>1</td>\n",
       "      <td>YX</td>\n",
       "      <td>CMH</td>\n",
       "      <td>12H-18H</td>\n",
       "      <td>59.0</td>\n",
       "      <td>ON_TIME</td>\n",
       "    </tr>\n",
       "    <tr>\n",
       "      <th>3</th>\n",
       "      <td>1</td>\n",
       "      <td>YX</td>\n",
       "      <td>DCA</td>\n",
       "      <td>06H-12H</td>\n",
       "      <td>61.0</td>\n",
       "      <td>LESS_THAN_30_MIN</td>\n",
       "    </tr>\n",
       "    <tr>\n",
       "      <th>4</th>\n",
       "      <td>1</td>\n",
       "      <td>YX</td>\n",
       "      <td>DCA</td>\n",
       "      <td>06H-12H</td>\n",
       "      <td>58.0</td>\n",
       "      <td>BETWEEN_60_AND_120_MIN</td>\n",
       "    </tr>\n",
       "    <tr>\n",
       "      <th>...</th>\n",
       "      <td>...</td>\n",
       "      <td>...</td>\n",
       "      <td>...</td>\n",
       "      <td>...</td>\n",
       "      <td>...</td>\n",
       "      <td>...</td>\n",
       "    </tr>\n",
       "    <tr>\n",
       "      <th>556497</th>\n",
       "      <td>7</td>\n",
       "      <td>DL</td>\n",
       "      <td>ATL</td>\n",
       "      <td>12H-18H</td>\n",
       "      <td>123.0</td>\n",
       "      <td>ON_TIME</td>\n",
       "    </tr>\n",
       "    <tr>\n",
       "      <th>556498</th>\n",
       "      <td>7</td>\n",
       "      <td>DL</td>\n",
       "      <td>DFW</td>\n",
       "      <td>12H-18H</td>\n",
       "      <td>175.0</td>\n",
       "      <td>ON_TIME</td>\n",
       "    </tr>\n",
       "    <tr>\n",
       "      <th>556499</th>\n",
       "      <td>7</td>\n",
       "      <td>DL</td>\n",
       "      <td>DFW</td>\n",
       "      <td>12H-18H</td>\n",
       "      <td>180.0</td>\n",
       "      <td>LESS_THAN_30_MIN</td>\n",
       "    </tr>\n",
       "    <tr>\n",
       "      <th>556500</th>\n",
       "      <td>7</td>\n",
       "      <td>DL</td>\n",
       "      <td>DFW</td>\n",
       "      <td>12H-18H</td>\n",
       "      <td>172.0</td>\n",
       "      <td>ON_TIME</td>\n",
       "    </tr>\n",
       "    <tr>\n",
       "      <th>556501</th>\n",
       "      <td>7</td>\n",
       "      <td>DL</td>\n",
       "      <td>DFW</td>\n",
       "      <td>12H-18H</td>\n",
       "      <td>176.0</td>\n",
       "      <td>ON_TIME</td>\n",
       "    </tr>\n",
       "  </tbody>\n",
       "</table>\n",
       "<p>2073502 rows × 6 columns</p>\n",
       "</div>"
      ],
      "text/plain": [
       "        DAY_OF_WEEK OP_CARRIER ORIGIN DEP_TIME  AIR_TIME  \\\n",
       "0                 1         YX    CMH  12H-18H      56.0   \n",
       "1                 1         YX    CMH  12H-18H      53.0   \n",
       "2                 1         YX    CMH  12H-18H      59.0   \n",
       "3                 1         YX    DCA  06H-12H      61.0   \n",
       "4                 1         YX    DCA  06H-12H      58.0   \n",
       "...             ...        ...    ...      ...       ...   \n",
       "556497            7         DL    ATL  12H-18H     123.0   \n",
       "556498            7         DL    DFW  12H-18H     175.0   \n",
       "556499            7         DL    DFW  12H-18H     180.0   \n",
       "556500            7         DL    DFW  12H-18H     172.0   \n",
       "556501            7         DL    DFW  12H-18H     176.0   \n",
       "\n",
       "                   DELAY_CATEG  \n",
       "0                      ON_TIME  \n",
       "1                      ON_TIME  \n",
       "2                      ON_TIME  \n",
       "3             LESS_THAN_30_MIN  \n",
       "4       BETWEEN_60_AND_120_MIN  \n",
       "...                        ...  \n",
       "556497                 ON_TIME  \n",
       "556498                 ON_TIME  \n",
       "556499        LESS_THAN_30_MIN  \n",
       "556500                 ON_TIME  \n",
       "556501                 ON_TIME  \n",
       "\n",
       "[2073502 rows x 6 columns]"
      ]
     },
     "execution_count": 10,
     "metadata": {},
     "output_type": "execute_result"
    }
   ],
   "source": [
    "df[['DAY_OF_WEEK', 'OP_CARRIER', 'ORIGIN', 'DEP_TIME', 'AIR_TIME', 'DELAY_CATEG']]"
   ]
  },
  {
   "cell_type": "code",
   "execution_count": 11,
   "metadata": {},
   "outputs": [
    {
     "data": {
      "text/plain": [
       "count   2073502.00000\n",
       "mean        114.56582\n",
       "std          70.83684\n",
       "min           8.00000\n",
       "25%          62.00000\n",
       "50%          98.00000\n",
       "75%         145.00000\n",
       "max         727.00000\n",
       "Name: AIR_TIME, dtype: float64"
      ]
     },
     "execution_count": 11,
     "metadata": {},
     "output_type": "execute_result"
    }
   ],
   "source": [
    "pd.set_option('display.float_format', lambda x: '%.5f' % x)\n",
    "df['AIR_TIME'].describe()"
   ]
  },
  {
   "cell_type": "markdown",
   "metadata": {},
   "source": [
    "## Get A Baseline - Modeling"
   ]
  },
  {
   "cell_type": "markdown",
   "metadata": {},
   "source": [
    "### Preprocessing functions"
   ]
  },
  {
   "cell_type": "code",
   "execution_count": 10,
   "metadata": {},
   "outputs": [],
   "source": [
    "def preprocessing(files:list):\n",
    "    '''Preprocess the data, drop missing values, encode target\n",
    "    \n",
    "       Args:\n",
    "       - files : csv path list\n",
    "       \n",
    "       Returns:\n",
    "        A preprocessed dataframe\n",
    "    '''\n",
    "    \n",
    "    if len(files) > 1 :\n",
    "        files_dict = {}\n",
    "        for num, file in enumerate(files):\n",
    "                files_dict[num] = pd.read_csv(file)\n",
    "                \n",
    "        dataframe = pd.concat(list(files_dict.values()))\n",
    "    else:\n",
    "        dataframe = pd.read_csv(files[0])\n",
    "\n",
    "    dataframe.dropna(axis=0, how='any', inplace=True) # remove rows that do not have arriving time and not cancelled\n",
    "\n",
    "    # Create Categorical Delay Column\n",
    "    dataframe['IS_DELAY'] = np.where(dataframe['DEP_DELAY'] <= 0, 0, 1)\n",
    "\n",
    "    dataframe = dataframe[['DAY_OF_WEEK', 'OP_CARRIER', 'ORIGIN', 'DEP_TIME', 'AIR_TIME', 'IS_DELAY']]\n",
    "\n",
    "    return dataframe"
   ]
  },
  {
   "cell_type": "code",
   "execution_count": 11,
   "metadata": {},
   "outputs": [],
   "source": [
    "training_data = ['data/flight_status_01_2022.csv',\n",
    "                 'data/flight_status_02_2022.csv',\n",
    "                 'data/flight_status_03_2022.csv',\n",
    "                 'data/flight_status_04_2022.csv']\n",
    "validation_data = ['data/flight_status_05_2022.csv']"
   ]
  },
  {
   "cell_type": "code",
   "execution_count": 12,
   "metadata": {},
   "outputs": [],
   "source": [
    "def spliting(file_for_training:list, file_for_validation:list):\n",
    "    '''Split the data in training and validation arrays\n",
    "    \n",
    "       Args:\n",
    "       - file_for_training : training csv path list\n",
    "       - file_for_validation : validation csv path list\n",
    "       \n",
    "       Returns:\n",
    "        X_train, X_val, y_train, y_val, dv\n",
    "    '''\n",
    "  \n",
    "    df_train = preprocessing(file_for_training)\n",
    "    df_val = preprocessing(file_for_validation)\n",
    "    \n",
    "    categorical = ['OP_CARRIER', 'ORIGIN'] \n",
    "    numerical = ['DEP_TIME', 'DAY_OF_WEEK', 'AIR_TIME']\n",
    "\n",
    "    dv = DictVectorizer()\n",
    "\n",
    "    train_dicts = df_train[categorical + numerical].to_dict(orient='records')\n",
    "    X_train = dv.fit_transform(train_dicts)\n",
    "\n",
    "    val_dicts = df_val[categorical + numerical].to_dict(orient='records')\n",
    "    X_val = dv.transform(val_dicts)\n",
    "    \n",
    "    target = 'IS_DELAY'\n",
    "    y_train = df_train[target].values\n",
    "    y_val = df_val[target].values\n",
    "    \n",
    "    return X_train, X_val, y_train, y_val, dv"
   ]
  },
  {
   "cell_type": "code",
   "execution_count": 13,
   "metadata": {},
   "outputs": [
    {
     "data": {
      "text/plain": [
       "(2073502, 565955)"
      ]
     },
     "execution_count": 13,
     "metadata": {},
     "output_type": "execute_result"
    }
   ],
   "source": [
    "df_train = preprocessing(files=training_data)\n",
    "df_val = preprocessing(files=validation_data)\n",
    "\n",
    "len(df_train), len(df_val)"
   ]
  },
  {
   "cell_type": "markdown",
   "metadata": {},
   "source": [
    "### Baseline Model"
   ]
  },
  {
   "cell_type": "code",
   "execution_count": 14,
   "metadata": {},
   "outputs": [],
   "source": [
    "X_train, X_val, y_train, y_val, dv = spliting(file_for_training=training_data, \n",
    "                                              file_for_validation=validation_data)"
   ]
  },
  {
   "cell_type": "code",
   "execution_count": 41,
   "metadata": {},
   "outputs": [],
   "source": [
    "log_reg_model = LogisticRegression()\n",
    "log_reg_model.fit(X_train, y_train)\n",
    "\n",
    "clf_tree = DecisionTreeClassifier()\n",
    "clf_tree.fit(X_train, y_train)"
   ]
  },
  {
   "cell_type": "code",
   "execution_count": 18,
   "metadata": {},
   "outputs": [],
   "source": [
    "y_score1 = log_reg_model.predict_proba(X_val)[:,1]\n",
    "y_score2 = clf_tree.predict_proba(X_val)[:,1]"
   ]
  },
  {
   "cell_type": "code",
   "execution_count": 19,
   "metadata": {},
   "outputs": [],
   "source": [
    "false_positive_rate1, true_positive_rate1, threshold1 = roc_curve(y_val, y_score1)\n",
    "false_positive_rate2, true_positive_rate2, threshold2 = roc_curve(y_val, y_score2)"
   ]
  },
  {
   "cell_type": "code",
   "execution_count": null,
   "metadata": {},
   "outputs": [],
   "source": [
    "print('roc_auc_score for LogisticRegression: ', roc_auc_score(y_val, y_score1))\n",
    "print('roc_auc_score for DecisionTree: ', roc_auc_score(y_val, y_score2))"
   ]
  },
  {
   "cell_type": "code",
   "execution_count": 21,
   "metadata": {},
   "outputs": [
    {
     "data": {
      "image/png": "[encoded data removed]",
      "text/plain": [
       "<Figure size 360x360 with 1 Axes>"
      ]
     },
     "metadata": {
      "needs_background": "light"
     },
     "output_type": "display_data"
    },
    {
     "data": {
      "image/png": "[encoded data removed]",
      "text/plain": [
       "<Figure size 360x360 with 1 Axes>"
      ]
     },
     "metadata": {
      "needs_background": "light"
     },
     "output_type": "display_data"
    }
   ],
   "source": [
    "plt.subplots(1, figsize=(5,5))\n",
    "plt.title('Receiver Operating Characteristic - Logistic Regression')\n",
    "plt.plot(false_positive_rate1, true_positive_rate1)\n",
    "plt.plot([0, 1], ls=\"--\")\n",
    "plt.plot([0, 0], [1, 0] , c=\".7\"), plt.plot([1, 1] , c=\".7\")\n",
    "plt.ylabel('True Positive Rate')\n",
    "plt.xlabel('False Positive Rate')\n",
    "plt.show()\n",
    "\n",
    "plt.subplots(1, figsize=(5,5))\n",
    "plt.title('Receiver Operating Characteristic - DecisionTree')\n",
    "plt.plot(false_positive_rate2, true_positive_rate2)\n",
    "plt.plot([0, 1], ls=\"--\")\n",
    "plt.plot([0, 0], [1, 0] , c=\".7\"), plt.plot([1, 1] , c=\".7\")\n",
    "plt.ylabel('True Positive Rate')\n",
    "plt.xlabel('False Positive Rate')\n",
    "plt.show()"
   ]
  },
  {
   "cell_type": "markdown",
   "metadata": {},
   "source": [
    "## ML Experiments MLflow"
   ]
  },
  {
   "cell_type": "code",
   "execution_count": 149,
   "metadata": {},
   "outputs": [],
   "source": [
    "import mlflow\n",
    "from mlflow.tracking import MlflowClient\n",
    "import boto3\n",
    "import os\n",
    "from dotenv import load_dotenv\n",
    "\n",
    "load_dotenv()\n",
    "\n",
    "MLFLOW_TRACKING_URI = os.getenv('MLFLOW_TRACKING_URI')\n",
    "MLFLOW_EXPERIMENT_NAME = os.getenv('MLFLOW_EXPERIMENT_NAME')\n",
    "MLFLOW_TRACKING_USERNAME = os.getenv('MLFLOW_TRACKING_USERNAME')\n",
    "MLFLOW_TRACKING_PASSWORD = os.getenv('MLFLOW_TRACKING_PASSWORD')\n",
    "\n",
    "mlflow.set_tracking_uri(MLFLOW_TRACKING_URI)\n",
    "mlflow.set_experiment(MLFLOW_EXPERIMENT_NAME)\n",
    "client = MlflowClient(MLFLOW_TRACKING_URI)"
   ]
  },
  {
   "cell_type": "markdown",
   "metadata": {},
   "source": [
    "### Get the best algorithm"
   ]
  },
  {
   "cell_type": "code",
   "execution_count": null,
   "metadata": {},
   "outputs": [],
   "source": [
    "for model_class in (LogisticRegression, DecisionTreeClassifier, xgb):\n",
    "\n",
    "    with mlflow.start_run():\n",
    "            \n",
    "        if model_class == xgb:\n",
    "\n",
    "            train = model_class.DMatrix(X_train, label=y_train)\n",
    "            valid = model_class.DMatrix(X_val, label=y_val)\n",
    "            \n",
    "            mlflow.set_tag(\"model\", \"XGBClassifier\")\n",
    "            \n",
    "            model = model_class.train(\n",
    "                params={'max_depth':4, 'objective': 'binary:logistic', 'seed': 42},\n",
    "                dtrain=train,\n",
    "                num_boost_round=100,\n",
    "                evals=[(valid, 'validation')],\n",
    "                early_stopping_rounds=50\n",
    "            )\n",
    "            \n",
    "            y_pred = model.predict(valid)\n",
    "            \n",
    "            precision = precision_score(y_val, y_pred.round())\n",
    "            \n",
    "            mlflow.log_metric(\"precision\", precision_score(y_val, y_pred.round()))\n",
    "            mlflow.log_metric(\"recall\", recall_score(y_val, y_pred.round()))\n",
    "            mlflow.log_metric(\"roc auc\", roc_auc_score(y_val, y_pred.round()))\n",
    "            \n",
    "        elif model_class == LogisticRegression:\n",
    "            \n",
    "            mlflow.set_tag(\"model\", type(model_class()).__name__)\n",
    "\n",
    "            model = model_class(max_iter=1000).fit(X_train, y_train)\n",
    "            y_pred = model.predict(X_val)\n",
    "            \n",
    "            mlflow.log_metric(\"precision\", precision_score(y_val, y_pred))\n",
    "            mlflow.log_metric(\"recall\", recall_score(y_val, y_pred))\n",
    "            mlflow.log_metric(\"roc auc\", roc_auc_score(y_val, y_pred))\n",
    "            \n",
    "        else:\n",
    "            \n",
    "            mlflow.set_tag(\"model\", type(model_class()).__name__)\n",
    "\n",
    "            model = model_class(min_samples_split=10,max_depth=4).fit(X_train, y_train)\n",
    "            y_pred = model.predict(X_val)\n",
    "            \n",
    "            mlflow.log_metric(\"precision\", precision_score(y_val, y_pred))\n",
    "            mlflow.log_metric(\"recall\", recall_score(y_val, y_pred))\n",
    "            mlflow.log_metric(\"roc auc\", roc_auc_score(y_val, y_pred))"
   ]
  },
  {
   "cell_type": "markdown",
   "metadata": {},
   "source": [
    "### Get the best model with hyperparameter tuning"
   ]
  },
  {
   "cell_type": "code",
   "execution_count": 15,
   "metadata": {},
   "outputs": [],
   "source": [
    "train = xgb.DMatrix(X_train, label=y_train)\n",
    "valid = xgb.DMatrix(X_val, label=y_val)"
   ]
  },
  {
   "cell_type": "code",
   "execution_count": 40,
   "metadata": {},
   "outputs": [],
   "source": [
    "def hyperparameter_tuning(train, valid, y_val):\n",
    "    ''' Tune the model with HyperOpt and log runs in mlflow\n",
    "        \n",
    "        Args\n",
    "          - train : xgb DMatrix of training features\n",
    "          - valid : xgb DMatrix of validation features\n",
    "          - y_val : array of validation target values\n",
    "        \n",
    "        Returns\n",
    "    '''\n",
    "  \n",
    "    def objective(params):\n",
    "        with mlflow.start_run():\n",
    "            \n",
    "            mlflow.set_tag(\"model\", \"XGBClassifier\")\n",
    "            mlflow.set_tag(\"run type\", \"hyperparameter tuning\")\n",
    "            \n",
    "            mlflow.log_params(params)\n",
    "            \n",
    "            model = xgb.train(\n",
    "                params=params,\n",
    "                dtrain=train,\n",
    "                num_boost_round=50,\n",
    "                evals=[(valid, 'validation')],\n",
    "                early_stopping_rounds=50\n",
    "            )\n",
    "            \n",
    "            y_pred = model.predict(valid)\n",
    "            \n",
    "            precision = precision_score(y_val, y_pred.round())\n",
    "            \n",
    "            mlflow.log_metric(\"precision\", precision_score(y_val, y_pred.round()))\n",
    "            mlflow.log_metric(\"recall\", recall_score(y_val, y_pred.round()))\n",
    "            mlflow.log_metric(\"roc auc\", roc_auc_score(y_val, y_pred.round()))\n",
    "\n",
    "        return {'loss': -precision, 'status': STATUS_OK}\n",
    "\n",
    "    search_space = {\n",
    "        'max_depth': scope.int(hp.quniform('max_depth', 4, 100, 1)),\n",
    "        'learning_rate': hp.loguniform('learning_rate', -3, 0),\n",
    "        'reg_alpha': hp.loguniform('reg_alpha', -5, -1),\n",
    "        'reg_lambda': hp.loguniform('reg_lambda', -6, -1),\n",
    "        'min_child_weight': hp.loguniform('min_child_weight', -1, 3),\n",
    "        'objective': 'binary:logistic',\n",
    "        'seed': 42\n",
    "    }\n",
    "\n",
    "    best_result = fmin(\n",
    "        fn=objective,\n",
    "        space=search_space,\n",
    "        algo=tpe.suggest,\n",
    "        max_evals=3,\n",
    "        trials=Trials()\n",
    "    )\n",
    "    return"
   ]
  },
  {
   "cell_type": "code",
   "execution_count": null,
   "metadata": {},
   "outputs": [],
   "source": [
    "hyperparameter_tuning(train, valid, y_val)"
   ]
  },
  {
   "cell_type": "markdown",
   "metadata": {},
   "source": [
    "### Train and register the best model "
   ]
  },
  {
   "cell_type": "code",
   "execution_count": 111,
   "metadata": {},
   "outputs": [],
   "source": [
    "def find_and_train_best_model(train, valid, y_val, dv, client):\n",
    "    ''' Select the best model from the previous runs and train the model\n",
    "        to keep it in the S3 bucket artifacts folder.\n",
    "        \n",
    "        Args\n",
    "          - train : xgb DMatrix of training features\n",
    "          - valid : xgb DMatrix of validation features\n",
    "          - y_val : array of validation target values\n",
    "          - dv : fitted DictVectorizer\n",
    "          - client : MlflowClient\n",
    "        \n",
    "        Returns\n",
    "    '''\n",
    "  \n",
    "    with mlflow.start_run():\n",
    "\n",
    "        filter_query = \"tags.`run type` = 'hyperparameter tuning'\"\n",
    "        hypertuning_runs = client.search_runs(experiment_ids=[\"1\"], filter_string=filter_query, order_by=[\"metrics.precision DESC\", \"attributes.start_time DESC\"], max_results=50)\n",
    "\n",
    "        best_run_id = hypertuning_runs[0].info.run_id\n",
    "        best_run_params = hypertuning_runs[0].data.params\n",
    "\n",
    "        mlflow.set_tag(\"model\", \"XGBClassifier\")\n",
    "        mlflow.set_tag(\"run type\", \"best model\")\n",
    "        \n",
    "        mlflow.log_params(best_run_params)\n",
    "        \n",
    "        model = xgb.train(\n",
    "            params=best_run_params,\n",
    "            dtrain=train,\n",
    "            num_boost_round=50,\n",
    "            evals=[(valid, 'validation')],\n",
    "            early_stopping_rounds=50\n",
    "        )\n",
    "        \n",
    "        y_pred = model.predict(valid)\n",
    "        \n",
    "        mlflow.log_metric(\"precision\", precision_score(y_val, y_pred.round()))\n",
    "        mlflow.log_metric(\"recall\", recall_score(y_val, y_pred.round()))\n",
    "        mlflow.log_metric(\"roc auc\", roc_auc_score(y_val, y_pred.round()))\n",
    "\n",
    "        with open(\"models/preprocessor.b\", \"wb\") as f_out:\n",
    "            pickle.dump(dv, f_out)\n",
    "        mlflow.log_artifact(\"models/preprocessor.b\", artifact_path=\"preprocessor\")\n",
    "\n",
    "        mlflow.xgboost.log_model(model, artifact_path=\"models\")"
   ]
  },
  {
   "cell_type": "code",
   "execution_count": null,
   "metadata": {},
   "outputs": [],
   "source": [
    "find_and_train_best_model(train, valid, y_val, dv, client)"
   ]
  },
  {
   "cell_type": "code",
   "execution_count": 215,
   "metadata": {},
   "outputs": [],
   "source": [
    "def register_and_set_stage_model(client):\n",
    "    ''' Register the model trained and set its stage\n",
    "        If the model is better than the production one,\n",
    "        put it in staging, if not put it in the archives.\n",
    "        \n",
    "        Args\n",
    "        - Client : MLflow client\n",
    "        \n",
    "        Returns\n",
    "    '''\n",
    "    \n",
    "    best_model_runs = client.search_runs(experiment_ids=[\"1\"], filter_string=\"tags.`run type` = 'best model'\", order_by=[\"attributes.start_time DESC\"], max_results=5)\n",
    "    run_id = best_model_runs[0].info.run_id # save the most recent best model run id \n",
    "    \n",
    "    # Register the model\n",
    "    mv = mlflow.register_model(\n",
    "            model_uri=f\"runs:/{run_id}/models\",\n",
    "            name='flight-delay-classifier'\n",
    "        )\n",
    "    version = mv.version\n",
    "\n",
    "    # Get the production model's run id\n",
    "    registered_model = client.search_registered_models(filter_string=\"name='flight-delay-classifier'\")\n",
    "    production_run_id = [model.run_id for model in registered_model[0].latest_versions if model.current_stage == 'Production']\n",
    "    if len(production_run_id) > 0:\n",
    "        # Get precision metric of both run \n",
    "        production_run = client.get_run(production_run_id[0])\n",
    "        production_run_precision = production_run.data.metrics['precision']\n",
    "        \n",
    "        best_run = client.get_run(run_id)\n",
    "        best_run_precision = best_run.data.metrics['precision']\n",
    "        \n",
    "        if best_run_precision > production_run_precision:\n",
    "            model_version = version\n",
    "            new_stage = \"Production\"\n",
    "            client.transition_model_version_stage(\n",
    "                name='flight-delay-classifier',\n",
    "                version=model_version,\n",
    "                stage=new_stage,\n",
    "                archive_existing_versions=False\n",
    "            )\n",
    "            print(f'The version {version} of flight-delay-classifier model has been set to {new_stage}')\n",
    "        else:\n",
    "            model_version = version\n",
    "            new_stage = \"Archived\"\n",
    "            client.transition_model_version_stage(\n",
    "                name='flight-delay-classifier',\n",
    "                version=model_version,\n",
    "                stage=new_stage,\n",
    "                archive_existing_versions=False\n",
    "            )\n",
    "            print(f'The version {version} of flight-delay-classifier model has been set to {new_stage}')\n",
    "    else:\n",
    "        model_version = version\n",
    "        new_stage = \"Production\"\n",
    "        client.transition_model_version_stage(\n",
    "            name='flight-delay-classifier',\n",
    "            version=model_version,\n",
    "            stage=new_stage,\n",
    "            archive_existing_versions=False\n",
    "        )\n",
    "        print(f'The version {version} of flight-delay-classifier model has been set to {new_stage}')"
   ]
  },
  {
   "cell_type": "code",
   "execution_count": null,
   "metadata": {},
   "outputs": [],
   "source": [
    "register_and_set_stage_model(client)"
   ]
  }
 ],
 "metadata": {
  "kernelspec": {
   "display_name": "Python 3.9.13 ('flight-delay-XO8ZRYSR')",
   "language": "python",
   "name": "python3"
  },
  "language_info": {
   "codemirror_mode": {
    "name": "ipython",
    "version": 3
   },
   "file_extension": ".py",
   "mimetype": "text/x-python",
   "name": "python",
   "nbconvert_exporter": "python",
   "pygments_lexer": "ipython3",
   "version": "3.9.13"
  },
  "orig_nbformat": 4,
  "vscode": {
   "interpreter": {
    "hash": "803144689001862bd950f93d6e0a8a906514f008aabd62be8f0040be1257d27a"
   }
  }
 },
 "nbformat": 4,
 "nbformat_minor": 2
}
